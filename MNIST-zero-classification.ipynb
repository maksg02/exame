{
 "cells": [
  {
   "cell_type": "code",
   "execution_count": null,
   "metadata": {},
   "outputs": [],
   "source": [
    "# Нейросеть, которая различачет нули от всех остальных цифр."
   ]
  },
  {
   "cell_type": "code",
   "execution_count": null,
   "metadata": {},
   "outputs": [],
   "source": [
    "import numpy as np\n",
    "from sklearn.datasets import fetch_mldata\n",
    "from sklearn.datasets.base import get_data_home\n",
    "cur_data_home = get_data_home()\n",
    "mnist = fetch_mldata('MNIST original',data_home=cur_data_home)\n",
    "# разделение датасета на входные параметры(картинки) и выходные параметры(соответствущие картинками цифры)\n",
    "x, y = mnist['data'], mnist['target']"
   ]
  },
  {
   "cell_type": "code",
   "execution_count": 2,
   "metadata": {},
   "outputs": [],
   "source": [
    "# нормализация\n",
    "x = x / 255"
   ]
  },
  {
   "cell_type": "code",
   "execution_count": 3,
   "metadata": {},
   "outputs": [],
   "source": [
    "# преобазуем target в новый таргет, где нулям соответуствует 1, а остальным цифрам 0, то есть сужаем задачу до бинарной классификации\n",
    "y_new = np.zeros(y.shape)\n",
    "y_new[np.where(y == 0.0)[0]] = 1\n",
    "y = y_new"
   ]
  },
  {
   "cell_type": "code",
   "execution_count": 4,
   "metadata": {},
   "outputs": [],
   "source": [
    "m = 60000 # количество картинок для обучения нейронной сети\n",
    "m_test = x.shape[0] - m # 10000 - количество картинок для тестирования нейронной сети\n",
    "\n",
    "x_train, x_test = x[:m].T, x[m:].T\n",
    "y_train, y_test = y[:m].reshape(1,m), y[m:].reshape(1, m_test)"
   ]
  },
  {
   "cell_type": "code",
   "execution_count": 5,
   "metadata": {},
   "outputs": [],
   "source": [
    "# перемешиваем тренировочные данные для улучшения результатов тренировки\n",
    "np.random.seed(38)\n",
    "shuffle_index = np.random.permutation(m)\n",
    "x_train, y_train = x_train[:,shuffle_index], y_train[:,shuffle_index]"
   ]
  },
  {
   "cell_type": "code",
   "execution_count": 10,
   "metadata": {},
   "outputs": [
    {
     "data": {
      "image/png": "[encoded data removed]",
      "text/plain": [
       "<Figure size 432x288 with 1 Axes>"
      ]
     },
     "metadata": {
      "needs_background": "light"
     },
     "output_type": "display_data"
    },
    {
     "name": "stdout",
     "output_type": "stream",
     "text": [
      "[0.]\n"
     ]
    }
   ],
   "source": [
    "%matplotlib inline\n",
    "import matplotlib\n",
    "import matplotlib.pyplot as plt\n",
    "\n",
    "i = 900\n",
    "plt.imshow(x_train[:,i].reshape(28,28), cmap = matplotlib.cm.binary)\n",
    "plt.axis(\"off\")\n",
    "plt.show()\n",
    "print(y_train[:,i])"
   ]
  },
  {
   "cell_type": "code",
   "execution_count": 11,
   "metadata": {},
   "outputs": [],
   "source": [
    "def sigmoid(z): # функция активации\n",
    "    s = 1 / (1 + np.exp(-z))\n",
    "    return s"
   ]
  },
  {
   "cell_type": "code",
   "execution_count": 12,
   "metadata": {},
   "outputs": [],
   "source": [
    "def compute_loss(y, y_pred): # функция ошибки\n",
    "    m = y.shape[1]\n",
    "    L = -(1./m) * (np.sum(np.multiply(np.log(y_pred),y)) + np.sum(np.multiply(np.log(1-y_pred), (1-y))))\n",
    "    return L"
   ]
  },
  {
   "cell_type": "code",
   "execution_count": 13,
   "metadata": {},
   "outputs": [
    {
     "name": "stdout",
     "output_type": "stream",
     "text": [
      "Epoch 0 cost:  0.7055925747010631\n",
      "Epoch 100 cost:  0.04121746926907383\n",
      "Epoch 200 cost:  0.03576256100718871\n",
      "Epoch 300 cost:  0.033218969091791666\n",
      "Epoch 400 cost:  0.031627747035900065\n",
      "Epoch 500 cost:  0.030493243336164377\n",
      "Epoch 600 cost:  0.029624357072468775\n",
      "Epoch 700 cost:  0.02892874968568935\n",
      "Epoch 800 cost:  0.02835487077242392\n",
      "Epoch 900 cost:  0.02787094361687469\n",
      "Epoch 1000 cost:  0.027455948513811227\n",
      "Epoch 1100 cost:  0.02709524265958507\n",
      "Epoch 1200 cost:  0.02677821861652344\n",
      "Epoch 1300 cost:  0.026496954583102784\n",
      "Epoch 1400 cost:  0.026245388342563375\n",
      "Epoch 1500 cost:  0.026018786849964223\n",
      "Epoch 1600 cost:  0.02581339214570414\n",
      "Epoch 1700 cost:  0.02562617730676974\n",
      "Epoch 1800 cost:  0.025454673696983385\n",
      "Epoch 1900 cost:  0.025296845892695558\n",
      "Final cost 0.02515240337681562\n"
     ]
    }
   ],
   "source": [
    "learning_rate = 1\n",
    "\n",
    "x = x_train\n",
    "y = y_train\n",
    "\n",
    "n_x = x.shape[0]\n",
    "m = x.shape[1]\n",
    "\n",
    "# генерация весов \n",
    "W = np.random.randn(n_x, 1) * 0.01\n",
    "b = np.zeros((1,1))\n",
    "\n",
    "# массив для хранения функции ошибки\n",
    "cost_arr = []\n",
    "for i in range(2000):\n",
    "    # вычисляем результат матричного произведения\n",
    "    Z = np.matmul(W.T,x) + b\n",
    "    # прогоняем через функцию активации\n",
    "    A = sigmoid(Z)\n",
    "    # считаем функцию ошибки\n",
    "    cost = compute_loss(y, A)\n",
    "    cost_arr.append(cost)\n",
    "    # считаем градиенты\n",
    "    dW = (1./m) * np.matmul(x, (A-y).T)\n",
    "    db = (1./m) * np.sum(A-y, axis=1, keepdims=True)\n",
    "    # обновляем веса с помощью отрицательного градиент\n",
    "    W = W - learning_rate * dW\n",
    "    b = b - learning_rate * db\n",
    "    \n",
    "    if(i % 100 == 0):\n",
    "        print(\"Epoch\", i, \"cost: \", cost)\n",
    "        \n",
    "print(\"Final cost\", cost)    "
   ]
  },
  {
   "cell_type": "code",
   "execution_count": 22,
   "metadata": {},
   "outputs": [
    {
     "data": {
      "text/plain": [
       "[<matplotlib.lines.Line2D at 0x1a49976748>]"
      ]
     },
     "execution_count": 22,
     "metadata": {},
     "output_type": "execute_result"
    },
    {
     "data": {
      "image/png": "[encoded data removed]",
      "text/plain": [
       "<Figure size 432x288 with 1 Axes>"
      ]
     },
     "metadata": {
      "needs_background": "light"
     },
     "output_type": "display_data"
    }
   ],
   "source": [
    "plt.plot(cost_arr, label='train')"
   ]
  },
  {
   "cell_type": "code",
   "execution_count": 23,
   "metadata": {},
   "outputs": [
    {
     "name": "stdout",
     "output_type": "stream",
     "text": [
      "Correct non-zero digits: 8980\n",
      "Incorrect non-zero digits: 34\n",
      "Correct zero digits: 946\n",
      "Incorrect zero digits: 40\n",
      "Correct non-zero digits prediction: 99.62280896383403 %\n",
      "Correct zero digits prediction: 95.94320486815415 %\n"
     ]
    }
   ],
   "source": [
    "from sklearn.metrics import classification_report, confusion_matrix\n",
    "\n",
    "# проверяем сеть на тестовых данных\n",
    "Z = np.matmul(W.T, x_test) + b\n",
    "A = sigmoid(Z)\n",
    "\n",
    "# преобразуем выход сигмоиды в 0 и 1\n",
    "predictions = (A>0.5)[0,:]\n",
    "labels = (y_test == 1)[0,:]\n",
    "\n",
    "# сравниваем предсказание и таргет\n",
    "cnf_mtr = confusion_matrix(predictions, labels)\n",
    "print(\"Correct non-zero digits:\", cnf_mtr[0][0])\n",
    "print(\"Incorrect non-zero digits:\", cnf_mtr[0][1])\n",
    "print(\"Correct zero digits:\", cnf_mtr[1][1])\n",
    "print(\"Incorrect zero digits:\", cnf_mtr[1][0])\n",
    "print(\"Correct non-zero digits prediction:\", cnf_mtr[0][0] / (cnf_mtr[0][1] + cnf_mtr[0][0]) * 100, \"%\")\n",
    "print(\"Correct zero digits prediction:\", cnf_mtr[1][1] / (cnf_mtr[1][1] + cnf_mtr[1][0]) * 100, \"%\")"
   ]
  }
 ],
 "metadata": {
  "kernelspec": {
   "display_name": "Python 3",
   "language": "python",
   "name": "python3"
  },
  "language_info": {
   "codemirror_mode": {
    "name": "ipython",
    "version": 3
   },
   "file_extension": ".py",
   "mimetype": "text/x-python",
   "name": "python",
   "nbconvert_exporter": "python",
   "pygments_lexer": "ipython3",
   "version": "3.7.3"
  }
 },
 "nbformat": 4,
 "nbformat_minor": 2
}
